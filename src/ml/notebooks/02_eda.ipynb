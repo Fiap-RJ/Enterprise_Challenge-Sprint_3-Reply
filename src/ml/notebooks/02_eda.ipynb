{
 "cells": [
  {
   "cell_type": "markdown",
   "metadata": {},
   "source": [
    "# 📊 Análise Exploratória de Dados (EDA)\n",
    "\n",
    "## FarmTech - Monitoramento de Máquinas Agrícolas\n",
    "\n",
    "Este notebook realiza uma análise exploratória dos dados de sensores das máquinas agrícolas."
   ]
  },
  {
   "cell_type": "markdown",
   "metadata": {},
   "source": [
    "## 1. Configuração Inicial"
   ]
  },
  {
   "cell_type": "code",
   "execution_count": null,
   "metadata": {},
   "outputs": [],
   "source": [
    "# Importação de bibliotecas\n",
    "import pandas as pd\n",
    "import numpy as np\n",
    "import matplotlib.pyplot as plt\n",
    "import seaborn as sns\n",
    "from pathlib import Path\n",
    "\n",
    "# Configurações de exibição\n",
    "pd.set_option('display.max_columns', None)\n",
    "pd.set_option('display.max_rows', 100)\n",
    "plt.style.use('seaborn')\n",
    "%matplotlib inline"
   ]
  },
  {
   "cell_type": "markdown",
   "metadata": {},
   "source": [
    "## 2. Carregamento dos Dados"
   ]
  },
  {
   "cell_type": "code",
   "execution_count": null,
   "metadata": {},
   "outputs": [],
   "source": [
    "def carregar_dados():\n",
    "    # Caminho para os dados\n",
    "    data_dir = Path('..') / 'data' / 'raw'\n",
    "    \n",
    "    # Carregar os dados\n",
    "    maquinas = pd.read_csv(data_dir / 'maquinas.csv')\n",
    "    sensores = pd.read_csv(data_dir / 'sensores.csv')\n",
    "    medicoes = pd.read_csv(data_dir / 'medicoes.csv')\n",
    "    \n",
    "    return maquinas, sensores, medicoes\n",
    "\n",
    "# Carregar os dados\n",
    "maquinas, sensores, medicoes = carregar_dados()"
   ]
  },
  {
   "cell_type": "markdown",
   "metadata": {},
   "source": [
    "## 3. Análise Inicial dos Dados"
   ]
  },
  {
   "cell_type": "code",
   "execution_count": null,
   "metadata": {},
   "outputs": [],
   "source": [
    "# Visão geral dos dados\n",
    "print(\"=== MÁQUINAS ===\")\n",
    "display(maquinas.info())\n",
    "display(maquinas.head())\n",
    "\n",
    "print(\"\\n=== SENSORES ===\")\n",
    "display(sensores.info())\n",
    "display(sensores.head())\n",
    "\n",
    "print(\"\\n=== MEDIÇÕES ===\")\n",
    "display(medicoes.info())\n",
    "display(medicoes.head())"
   ]
  },
  {
   "cell_type": "markdown",
   "metadata": {},
   "source": [
    "## 4. Análise Exploratória"
   ]
  },
  {
   "cell_type": "code",
   "execution_count": null,
   "metadata": {},
   "outputs": [],
   "source": [
    "# Estatísticas descritivas das medições\n",
    "print(\"=== ESTATÍSTICAS DAS MEDIÇÕES ===\")\n",
    "display(medicoes.describe())\n",
    "\n",
    "# Verificar valores nulos\n",
    "print(\"\\n=== VALORES NULOS ===\")\n",
    "display(medicoes.isnull().sum())"
   ]
  },
  {
   "cell_type": "markdown",
   "metadata": {},
   "source": [
    "## 5. Visualizações"
   ]
  },
  {
   "cell_type": "code",
   "execution_count": null,
   "metadata": {},
   "outputs": [],
   "source": [
    "# Histograma das medições de temperatura\n",
    "plt.figure(figsize=(10, 6))\n",
    "sns.histplot(data=medicoes, x='temp', bins=30, kde=True)\n",
    "plt.title('Distribuição de Temperatura')\n",
    "plt.xlabel('Temperatura (°C)')\n",
    "plt.ylabel('Contagem')\n",
    "plt.show()"
   ]
  },
  {
   "cell_type": "code",
   "execution_count": null,
   "metadata": {},
   "outputs": [],
   "source": [
    "# Boxplot de temperatura por sensor\n",
    "plt.figure(figsize=(12, 6))\n",
    "sns.boxplot(data=medicoes, x='cd_sensor', y='temp')\n",
    "plt.title('Distribuição de Temperatura por Sensor')\n",
    "plt.xlabel('Sensor')\n",
    "plt.ylabel('Temperatura (°C)')\n",
    "plt.xticks(rotation=45)\n",
    "plt.tight_layout()\n",
    "plt.show()"
   ]
  },
  {
   "cell_type": "markdown",
   "metadata": {},
   "source": [
    "## 6. Próximos Passos"
   ]
  },
  {
   "cell_type": "markdown",
   "metadata": {},
   "source": [
    "1. **Pré-processamento de Dados**\n",
    "   - Tratamento de outliers\n",
    "   - Normalização dos dados\n",
    "   \n",
    "2. **Engenharia de Features**\n",
    "   - Criação de variáveis temporais\n",
    "   - Agregações por período\n",
    "   \n",
    "3. **Modelagem**\n",
    "   - Definição do problema\n",
    "   - Seleção de algoritmos\n",
    "   - Treinamento e validação"
   ]
  }
 ],
 "metadata": {
  "kernelspec": {
   "display_name": "Python 3",
   "language": "python",
   "name": "python3"
  },
  "language_info": {
   "codemirror_mode": {
    "name": "ipython",
    "version": 3
   },
   "file_extension": ".py",
   "mimetype": "text/x-python",
   "name": "python",
   "nbconvert_exporter": "python",
   "pygments_lexer": "ipython3",
   "version": "3.8.0"
  }
 },
 "nbformat": 4,
 "nbformat_minor": 4
}
